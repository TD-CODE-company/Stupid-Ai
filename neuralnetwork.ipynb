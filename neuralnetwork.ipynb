{
 "cells": [
  {
   "cell_type": "code",
   "execution_count": 138,
   "metadata": {},
   "outputs": [
    {
     "name": "stdout",
     "output_type": "stream",
     "text": [
      "Enter your GPA: 2.6\n",
      "Enter your gender: male\n",
      "Your food choice likely is: ['Ice cream, pizza, cookies']\n"
     ]
    }
   ],
   "source": [
    "import pandas as pd\n",
    "from sklearn.tree import DecisionTreeClassifier\n",
    "from sklearn.model_selection import train_test_split\n",
    "from sklearn.metrics import accuracy_score\n",
    "\n",
    "food = pd.read_csv('food_coded.csv')\n",
    "output_frame = food['comfort_food']\n",
    "Input_frame = food.drop(columns=['comfort_food'])\n",
    "\n",
    "model = DecisionTreeClassifier()\n",
    "model.fit(Input_frame, output_frame)\n",
    "\n",
    "gpa = float(input('Enter your GPA: '))\n",
    "gender = input('Enter your gender: ').upper()\n",
    "if gender == 'MALE':\n",
    "    gender = 1\n",
    "elif gender == 'FEMALE':\n",
    "    gender = 2\n",
    "    \n",
    "predictions = model.predict([[gpa, gender]])\n",
    "print(f\"Your food choice likely is: {predictions}\")"
   ]
  }
 ],
 "metadata": {
  "kernelspec": {
   "display_name": "Python 3",
   "language": "python",
   "name": "python3"
  },
  "language_info": {
   "codemirror_mode": {
    "name": "ipython",
    "version": 3
   },
   "file_extension": ".py",
   "mimetype": "text/x-python",
   "name": "python",
   "nbconvert_exporter": "python",
   "pygments_lexer": "ipython3",
   "version": "3.7.6"
  }
 },
 "nbformat": 4,
 "nbformat_minor": 4
}
